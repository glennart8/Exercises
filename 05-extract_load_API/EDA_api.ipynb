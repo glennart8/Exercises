{
 "cells": [
  {
   "cell_type": "code",
   "execution_count": null,
   "metadata": {},
   "outputs": [
    {
     "name": "stdout",
     "output_type": "stream",
     "text": [
      "JENSEN gymnasium Uppsala söker lärare i spanska, Jensen Education AB\n",
      "Lärare slöjd åk 3-6 till Vänge skola, Uppsala kommun\n",
      "SO-lärare till Bärbyskolan, Statens Institutionsstyrelse\n",
      "JENSEN grundskola Kåbo F-3 söker lärare i fritidshem på 75 %, Jensen Education AB\n",
      "JENSEN grundskola Kåbo F-3 söker lärare i fritidshem 100%, Jensen Education AB\n",
      "Civil lärare i metodstödsystem, Försvarsmakten\n",
      "Lärare i ma och no åk 6-9 till Stordammen F-9 (Vikariat), Uppsala kommun\n",
      "Förskollärare och lärare till olika skolformer, Clockwork Bemanning & Rekrytering AB\n",
      "Lärare Bild, Teacher Art, Ages 10 - 12, Internationella Engelska Skolan i Sverige AB\n",
      "Lärare Bild, Teacher Art, Ages 13 - 15, Internationella Engelska Skolan i Sverige AB\n",
      "Katarinaskolan söker lärare i engelska och matematik, Heliga Katarinas Skolstift\n",
      "Hem- och konsumentkunskapslärare till Bärbyskolan!, Statens Institutionsstyrelse\n",
      "Lärare i matematik och NO åk 6-9 till Björkvallsskolan, Uppsala kommun\n",
      "Lärare Psykiatri, Kompetensutvecklingsinst Sverige AB\n",
      "Lärare äldre åldrar till sjukhusundervisningen, Uppsala kommun\n",
      "Biträdande rektor till Stordammens skola, Uppsala kommun\n",
      "Lärare på gymnasiet i teknik 14%, Ansgarskolorna AB\n",
      "Lärare på gymnasiet i privatjuridik 14%, Ansgarskolorna AB\n",
      "Lärare på gymnasiet i geografi 16%, Ansgarskolorna AB\n",
      "Lärare på gymnasiet i entreprenörskap 20%, Ansgarskolorna AB\n",
      "Lärare på gymnasiet i ledarskap och organisation 14%, Ansgarskolorna AB\n",
      "Lärare på gymnasiet i matematik 16%, Ansgarskolorna AB\n",
      "Lärare på gymnasiet i företagsekonomi 14%, Ansgarskolorna AB\n",
      "Lärare på gymnasiet i musik 42%, estetiskt program, Ansgarskolorna AB\n",
      "Lärare på gymnasiet i naturkunskap 20%, Ansgarskolorna AB\n",
      "Lärare på gymnasiet  i svenska 40%, Ansgarskolorna AB\n",
      "Lärare i musik 55%, Ansgarskolorna AB\n",
      "Lärare i textilslöjd 50%, Ansgarskolorna AB\n",
      "Lärare i Trä- och metallslöjd, Ansgarskolorna AB\n",
      "Grundlärare mot fritidshem, Ansgarskolorna AB\n",
      "Lärare i svenska, Ansgarskolorna AB\n",
      "Lärare i matematik 35%, Ansgarskolorna AB\n",
      "Lärare i spanska ca 30%, Ansgarskolorna AB\n",
      "Lärare i teknik 50%, Ansgarskolorna AB\n",
      "Lärare mellanstadiet, Ansgarskolorna AB\n",
      "Lärare , Engelska, vikariat Ages 13 - 16, Internationella Engelska Skolan i Sverige AB\n",
      "Lärare, Engelska, Högstadie, Internationella Engelska Skolan i Sverige AB\n",
      "Lärare i bild till Palmbladsskolan, Uppsala kommun\n",
      "Lärare i Fritidshem till Flogstaskolan, Uppsala kommun\n",
      "Lärare i fritidshem till Bergaskolan, Uppsala kommun\n",
      "Lärare i engelska och franska åk 6-9 till Tunabergsskolan, Uppsala kommun\n",
      "Slöjdlärare låg- och mellanstadiet ht 2025, Föräldrafören Vid Musiklådan\n",
      "Lärare i ma/no till liten undervisningsgrupp till Tunabergsskolan, Uppsala kommun\n",
      "Lärare i hem- och konsumentkunskap och annat ämne till Ärentunaskolan, Uppsala kommun\n",
      "Yrkeslärare till Hantverksprogrammet-Makeup, Lärande i Sverige AB\n",
      "Lärare El- och energiprogrammet vuxenutbildning, Movant AB\n",
      "Lärare i Svenska, STEAM Education holding AB\n"
     ]
    }
   ],
   "source": [
    "import requests\n",
    "import json\n",
    "\n",
    "url = 'https://jobsearch.api.jobtechdev.se'\n",
    "url_for_search = f\"{url}/search\"\n",
    "\n",
    "\n",
    "def _get_ads(params):\n",
    "    response = requests.get(url_for_search, params=params)\n",
    "    response.raise_for_status()  # check for http errors\n",
    "    return json.loads(response.content.decode('utf8'))\n",
    "\n",
    "\n",
    "def example_search_return_number_of_hits(query):\n",
    "    # limit: 0 means no ads, just a value of how many ads were found.\n",
    "    search_params = {'q': query, 'limit': 0}\n",
    "    json_response = _get_ads(search_params)\n",
    "    number_of_hits = json_response['total']['value']\n",
    "    print(f\"\\nNumber of hits = {number_of_hits}\")\n",
    "\n",
    "\n",
    "def example_search_loop_through_hits(query):\n",
    "    # limit = 100 is the max number of hits that can be returned.\n",
    "    # If there are more (which you find with ['total']['value'] in the json response)\n",
    "    # you have to use offset and multiple requests to get all ads.\n",
    "    search_params = {'q': query, 'limit': 100}\n",
    "    json_response = _get_ads(search_params)\n",
    "    hits = json_response['hits']\n",
    "    for hit in hits:\n",
    "        print(f\"{hit['headline']}, {hit['employer']['name']}\")\n",
    "\n",
    "\n",
    "\n",
    "query = 'lärare uppsala'\n",
    "example_search_loop_through_hits(query)\n"
   ]
  },
  {
   "cell_type": "code",
   "execution_count": 2,
   "metadata": {},
   "outputs": [
    {
     "name": "stdout",
     "output_type": "stream",
     "text": [
      "\n",
      "Number of hits = 47\n"
     ]
    }
   ],
   "source": [
    "example_search_return_number_of_hits(query)"
   ]
  },
  {
   "cell_type": "code",
   "execution_count": 4,
   "metadata": {},
   "outputs": [],
   "source": [
    "search_params = {'q': query, 'limit': 100}\n",
    "json_response = _get_ads(search_params)\n",
    "# json_response"
   ]
  },
  {
   "cell_type": "code",
   "execution_count": 5,
   "metadata": {},
   "outputs": [
    {
     "data": {
      "text/plain": [
       "dict_keys(['total', 'positions', 'query_time_in_millis', 'result_time_in_millis', 'stats', 'freetext_concepts', 'hits'])"
      ]
     },
     "execution_count": 5,
     "metadata": {},
     "output_type": "execute_result"
    }
   ],
   "source": [
    "json_response.keys()"
   ]
  },
  {
   "cell_type": "code",
   "execution_count": 11,
   "metadata": {},
   "outputs": [
    {
     "data": {
      "text/plain": [
       "47"
      ]
     },
     "execution_count": 11,
     "metadata": {},
     "output_type": "execute_result"
    }
   ],
   "source": [
    "len(json_response['hits'])"
   ]
  },
  {
   "cell_type": "code",
   "execution_count": 17,
   "metadata": {},
   "outputs": [
    {
     "data": {
      "text/plain": [
       "dict_keys(['relevance', 'id', 'external_id', 'original_id', 'label', 'webpage_url', 'logo_url', 'headline', 'application_deadline', 'number_of_vacancies', 'description', 'employment_type', 'salary_type', 'salary_description', 'duration', 'working_hours_type', 'scope_of_work', 'access', 'employer', 'application_details', 'experience_required', 'access_to_own_car', 'driving_license_required', 'driving_license', 'occupation', 'occupation_group', 'occupation_field', 'workplace_address', 'must_have', 'nice_to_have', 'application_contacts', 'publication_date', 'last_publication_date', 'removed', 'removed_date', 'source_type', 'timestamp'])"
      ]
     },
     "execution_count": 17,
     "metadata": {},
     "output_type": "execute_result"
    }
   ],
   "source": [
    "json_response['hits'][1].keys()"
   ]
  },
  {
   "cell_type": "code",
   "execution_count": 18,
   "metadata": {},
   "outputs": [
    {
     "data": {
      "text/plain": [
       "'Lärare slöjd åk 3-6 till Vänge skola'"
      ]
     },
     "execution_count": 18,
     "metadata": {},
     "output_type": "execute_result"
    }
   ],
   "source": [
    "json_response['hits'][1]['headline']"
   ]
  },
  {
   "cell_type": "code",
   "execution_count": 30,
   "metadata": {},
   "outputs": [],
   "source": [
    "json_response = _get_ads({\"q\": \"data engineer göteborg\", \"limit\": 10})\n",
    "# json_response"
   ]
  },
  {
   "cell_type": "code",
   "execution_count": 31,
   "metadata": {},
   "outputs": [
    {
     "data": {
      "text/plain": [
       "('Senior Data Engineer', 'Baronit AB')"
      ]
     },
     "execution_count": 31,
     "metadata": {},
     "output_type": "execute_result"
    }
   ],
   "source": [
    "json_response[\"hits\"][-1][\"headline\"], json_response[\"hits\"][-1][\"employer\"][\"name\"]"
   ]
  },
  {
   "cell_type": "code",
   "execution_count": 32,
   "metadata": {},
   "outputs": [
    {
     "name": "stdout",
     "output_type": "stream",
     "text": [
      "Data Engineer, SAAB AB\n",
      "Verification & Data Engineer, Electromobility, Together Tech AB\n",
      "Data Engineer, Baronit AB\n",
      "Senior Data Engineer, Techster Solutions AB\n",
      "Senior Data Engineer, Baronit AB\n"
     ]
    }
   ],
   "source": [
    "for hit in json_response[\"hits\"]:\n",
    "    print(f\"{hit['headline']}, {hit['employer']['name']}\")"
   ]
  },
  {
   "cell_type": "code",
   "execution_count": null,
   "metadata": {},
   "outputs": [],
   "source": []
  }
 ],
 "metadata": {
  "kernelspec": {
   "display_name": "Python 3",
   "language": "python",
   "name": "python3"
  },
  "language_info": {
   "codemirror_mode": {
    "name": "ipython",
    "version": 3
   },
   "file_extension": ".py",
   "mimetype": "text/x-python",
   "name": "python",
   "nbconvert_exporter": "python",
   "pygments_lexer": "ipython3",
   "version": "3.12.0"
  }
 },
 "nbformat": 4,
 "nbformat_minor": 2
}
